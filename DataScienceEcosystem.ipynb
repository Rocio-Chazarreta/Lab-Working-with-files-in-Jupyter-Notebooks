{
 "cells": [
  {
   "cell_type": "markdown",
   "id": "373fc590-f03b-4cf7-bb40-10f237f08324",
   "metadata": {},
   "source": [
    "# Data Science Tools and Ecosystem"
   ]
  },
  {
   "cell_type": "markdown",
   "id": "4850e791-c002-4857-8ab8-c9d83922deee",
   "metadata": {},
   "source": [
    "In this notebook, Data Science Tools and Ecosystem are summarized."
   ]
  },
  {
   "cell_type": "markdown",
   "id": "469a8f58-f78f-4473-990f-5d3302d8c353",
   "metadata": {},
   "source": [
    "**Objectives:**\n",
    "- List popular languages for Data Science\n",
    "- List libraries used dy Data Scienstis\n",
    "- Identify Data Science Tools"
   ]
  },
  {
   "cell_type": "markdown",
   "id": "41f5351d-7381-42ac-9c02-3db4ca0b0e90",
   "metadata": {},
   "source": [
    "Some of the popular languages that Data Scientists use are:\n",
    "1. R\n",
    "2. Python\n",
    "3. Scala"
   ]
  },
  {
   "cell_type": "markdown",
   "id": "8250ff64-42af-48e7-b4e9-780d04c48257",
   "metadata": {},
   "source": [
    "Some of the commonly used libraries used by Data Scientists include:\n",
    "1. Pandas\n",
    "2. Numpy\n",
    "3. Matplotlib"
   ]
  },
  {
   "cell_type": "markdown",
   "id": "d0116324-0de6-4cbf-93a6-cef9cfabb645",
   "metadata": {},
   "source": [
    "| Data Science Tools |\n",
    "| ----------------------- |\n",
    "|  Matplotlib |\n",
    "| Scikit-learn |\n",
    "| Tensorflow |\n",
    "\n"
   ]
  },
  {
   "cell_type": "markdown",
   "id": "e0aa8c0a-3370-4ad0-906e-488bfd55ed29",
   "metadata": {},
   "source": [
    "### Below are a few examples of evaluating arithmetic expressions in Python"
   ]
  },
  {
   "cell_type": "markdown",
   "id": "bc5a3587-fc58-4716-b3b2-98b3e17c63b8",
   "metadata": {},
   "source": [
    "This a simple arithmetic expression to mutiply then add integers."
   ]
  },
  {
   "cell_type": "code",
   "execution_count": 3,
   "id": "2f4f98b3-cc4d-4006-abc3-8d39598344cc",
   "metadata": {},
   "outputs": [
    {
     "data": {
      "text/plain": [
       "17"
      ]
     },
     "execution_count": 3,
     "metadata": {},
     "output_type": "execute_result"
    }
   ],
   "source": [
    "(3*4)+5\n"
   ]
  },
  {
   "cell_type": "markdown",
   "id": "91d5ffbf-c0de-4c3d-8afd-8e879ce1988a",
   "metadata": {},
   "source": [
    "This will convert 200 minutes to hours by diving by 60"
   ]
  },
  {
   "cell_type": "code",
   "execution_count": 9,
   "id": "bb07e027-5217-42d4-8195-edc22b2f9df3",
   "metadata": {},
   "outputs": [
    {
     "data": {
      "text/plain": [
       "3"
      ]
     },
     "execution_count": 9,
     "metadata": {},
     "output_type": "execute_result"
    }
   ],
   "source": [
    "200//60"
   ]
  },
  {
   "cell_type": "markdown",
   "id": "e285c525-d54d-4cc9-8972-c1aeea37b08d",
   "metadata": {},
   "source": [
    "## Author\n",
    "Rocio Chazarreta"
   ]
  },
  {
   "cell_type": "code",
   "execution_count": null,
   "id": "2fee05b3-8b77-407f-bcc3-237ba0d4c812",
   "metadata": {},
   "outputs": [],
   "source": []
  }
 ],
 "metadata": {
  "kernelspec": {
   "display_name": "Python 3 (ipykernel)",
   "language": "python",
   "name": "python3"
  },
  "language_info": {
   "codemirror_mode": {
    "name": "ipython",
    "version": 3
   },
   "file_extension": ".py",
   "mimetype": "text/x-python",
   "name": "python",
   "nbconvert_exporter": "python",
   "pygments_lexer": "ipython3",
   "version": "3.12.7"
  }
 },
 "nbformat": 4,
 "nbformat_minor": 5
}
